{
 "cells": [
  {
   "cell_type": "code",
   "execution_count": 13,
   "metadata": {},
   "outputs": [],
   "source": [
    "import numpy as np\n",
    "import json"
   ]
  },
  {
   "cell_type": "code",
   "execution_count": 54,
   "metadata": {},
   "outputs": [
    {
     "data": {
      "text/plain": [
       "{'credit_score': '740',\n",
       " 'credit_age': '2',\n",
       " 'spending_categories': {'monthly_dining': 600,\n",
       "  'monthly_groceries': 100,\n",
       "  'monthly_gas': 0,\n",
       "  'monthly_streaming': 7,\n",
       "  'monthly_online_shopping': 12,\n",
       "  'monthly_other': 200,\n",
       "  'monthly_travel': 50,\n",
       "  'monthly_hotel': 10,\n",
       "  'monthly_hotel_portal': 5,\n",
       "  'monthly_flights': 25,\n",
       "  'monthly_flights_portal': 13}}"
      ]
     },
     "execution_count": 54,
     "metadata": {},
     "output_type": "execute_result"
    }
   ],
   "source": [
    "filepath = 'dist/users.json'\n",
    "username = 'Andrew'\n",
    "\n",
    "cards_filepath = 'data/card_data.json'\n",
    "card = 'Chase Sapphire Preferred'\n",
    "\n",
    "with open(filepath, 'r') as f:\n",
    "    users = json.load(f)\n",
    "\n",
    "with open(cards_filepath, 'r') as f:\n",
    "    cards = json.load(f)\n",
    "\n",
    "andrew = users[username]\n",
    "andrew_spend = andrew['spending_categories']\n",
    "andrew\n"
   ]
  },
  {
   "cell_type": "code",
   "execution_count": 55,
   "metadata": {},
   "outputs": [
    {
     "data": {
      "text/plain": [
       "{'issuer': 'Chase',\n",
       " 'annual_fee': 95,\n",
       " 'purpose': 'Travel',\n",
       " 'good_airlines': ['Southwest', 'United'],\n",
       " 'spending_categories': {'Chase Travel': 5,\n",
       "  'Dining': 3,\n",
       "  'Online_Grocery': 3,\n",
       "  'Streaming': 3,\n",
       "  'Travel': 2,\n",
       "  'Other': 1}}"
      ]
     },
     "execution_count": 55,
     "metadata": {},
     "output_type": "execute_result"
    }
   ],
   "source": [
    "csp = cards[card]\n",
    "csp"
   ]
  },
  {
   "cell_type": "code",
   "execution_count": 56,
   "metadata": {},
   "outputs": [],
   "source": [
    "# need a dictionary to determine your categories to card categories\n",
    "\n",
    "# ALL CARD CATEGORIES WILL FOLLOW THIS CONVENTION\n",
    "master = {'monthly_dining': 'Dining', \n",
    "          'monthly_groceries': 'Groceries', \n",
    "          'monthly_gas': 'Gas', \n",
    "          'monthly_streaming': 'Streaming',\n",
    "          'monthly_travel': 'Travel',\n",
    "          'monthly_travel_portal': ['Chase Travel Portal', 'American Express Travel Portal', 'Capital One Travel Portal'],\n",
    "          'monthly_other': 'Other'}\n"
   ]
  },
  {
   "cell_type": "code",
   "execution_count": 57,
   "metadata": {},
   "outputs": [
    {
     "name": "stdout",
     "output_type": "stream",
     "text": [
      "Dining\n",
      "Groceries\n",
      "Gas\n",
      "Streaming\n"
     ]
    },
    {
     "ename": "KeyError",
     "evalue": "'monthly_online_shopping'",
     "output_type": "error",
     "traceback": [
      "\u001b[0;31m---------------------------------------------------------------------------\u001b[0m",
      "\u001b[0;31mKeyError\u001b[0m                                  Traceback (most recent call last)",
      "Cell \u001b[0;32mIn[57], line 2\u001b[0m\n\u001b[1;32m      1\u001b[0m \u001b[38;5;28;01mfor\u001b[39;00m cat \u001b[38;5;129;01min\u001b[39;00m andrew_spend:\n\u001b[0;32m----> 2\u001b[0m     \u001b[38;5;28mprint\u001b[39m(\u001b[43mmaster\u001b[49m\u001b[43m[\u001b[49m\u001b[43mcat\u001b[49m\u001b[43m]\u001b[49m)\n",
      "\u001b[0;31mKeyError\u001b[0m: 'monthly_online_shopping'"
     ]
    }
   ],
   "source": [
    "for cat in andrew_spend:\n",
    "    print(master[cat])"
   ]
  },
  {
   "cell_type": "code",
   "execution_count": 58,
   "metadata": {},
   "outputs": [],
   "source": [
    "MASTER = {\n",
    "    'monthly_dining': 'Dining',\n",
    "    'monthly_groceries': 'Grocery',\n",
    "    'monthly_gas': 'Gas',\n",
    "    'monthly_streaming': 'Streaming',\n",
    "    'monthly_online_shopping': 'Online_Shopping',\n",
    "    'monthly_other': 'Other',\n",
    "\n",
    "    # travel (non-portal)\n",
    "    'monthly_travel': 'Travel',\n",
    "    'monthly_hotel': 'Hotel',\n",
    "    'monthly_flights': 'Flights',\n",
    "\n",
    "    # travel (portal)\n",
    "    'monthly_hotel_portal': 'PORTAL_HOTEL',\n",
    "    'monthly_flights_portal': 'PORTAL_FLIGHT',\n",
    "}\n",
    "\n",
    "PORTAL_BY_ISSUER = {\n",
    "    'American Express': {\n",
    "        'unified': 'AmexTravel',\n",
    "        'hotel':  'AmexTravel Hotels (Prepaid)',\n",
    "        'flight': 'AmexTravel Flights',\n",
    "    },\n",
    "    'Chase': {\n",
    "        'unified': 'Chase Travel',\n",
    "        'hotel':  'Chase Travel - Hotels',\n",
    "        'flight': 'Chase Travel - Flights',\n",
    "    },\n",
    "    'Capital One': {\n",
    "        'unified': 'Capital One Travel',\n",
    "        'hotel':  'Capital One Travel - Hotels',\n",
    "        'flight': 'Capital One Travel - Flights',\n",
    "    },\n",
    "}\n",
    "\n",
    "\n",
    "def resolve_formal(formal_cat: str, card: dict) -> str:\n",
    "    \"\"\"Map only portal placeholders to issuer-specific keys.\"\"\"\n",
    "    if formal_cat not in ('PORTAL_HOTEL', 'PORTAL_FLIGHT'):\n",
    "        return formal_cat\n",
    "\n",
    "    issuer = card.get('issuer')\n",
    "    portal = PORTAL_BY_ISSUER.get(issuer, {})\n",
    "\n",
    "    if formal_cat == 'PORTAL_HOTEL':\n",
    "        # prefer issuer's hotel portal; otherwise fall back to issuer's unified portal\n",
    "        return portal.get('hotel', portal.get('unified', 'Other'))\n",
    "\n",
    "    if formal_cat == 'PORTAL_FLIGHT':\n",
    "        # prefer issuer's flight portal; otherwise fall back to issuer's unified portal\n",
    "        return portal.get('flight', portal.get('unified', 'Other'))\n",
    "\n",
    "def calc_point_return(user, card):\n",
    "    user_spend = user['spending_categories']\n",
    "    card_cats  = card['spending_categories']\n",
    "\n",
    "    total_points = 0\n",
    "    breakdown = {}\n",
    "\n",
    "    for user_cat, amt in user_spend.items():\n",
    "        # 1) default unknown user categories -> 'Other'\n",
    "        formal = resolve_formal(MASTER.get(user_cat, 'Other'), card)\n",
    "        # 2) if the card lacks that formal category, fall back to card's 'Other' (or 1x)\n",
    "        if formal in card_cats:\n",
    "            earn_rate = card_cats[formal]\n",
    "        elif 'Other' in card_cats:\n",
    "            earn_rate = card_cats['Other']\n",
    "        else:\n",
    "            earn_rate = 1\n",
    "\n",
    "        pts = amt * earn_rate\n",
    "\n",
    "        total_points += pts\n",
    "        breakdown[user_cat] = dict(amount=amt, formal=formal,\n",
    "                                   earn_rate=earn_rate, points=pts)\n",
    "\n",
    "    return total_points, breakdown\n"
   ]
  },
  {
   "cell_type": "code",
   "execution_count": 62,
   "metadata": {},
   "outputs": [
    {
     "data": {
      "text/plain": [
       "{'amount': 13,\n",
       " 'formal': 'Chase Travel - Flights',\n",
       " 'earn_rate': 1,\n",
       " 'points': 13}"
      ]
     },
     "execution_count": 62,
     "metadata": {},
     "output_type": "execute_result"
    }
   ],
   "source": [
    "calc_point_return(andrew, csp)[1]['monthly_flights_portal']"
   ]
  },
  {
   "cell_type": "code",
   "execution_count": null,
   "metadata": {},
   "outputs": [],
   "source": []
  },
  {
   "cell_type": "code",
   "execution_count": null,
   "metadata": {},
   "outputs": [],
   "source": []
  },
  {
   "cell_type": "code",
   "execution_count": null,
   "metadata": {},
   "outputs": [],
   "source": []
  }
 ],
 "metadata": {
  "kernelspec": {
   "display_name": "Python 3",
   "language": "python",
   "name": "python3"
  },
  "language_info": {
   "codemirror_mode": {
    "name": "ipython",
    "version": 3
   },
   "file_extension": ".py",
   "mimetype": "text/x-python",
   "name": "python",
   "nbconvert_exporter": "python",
   "pygments_lexer": "ipython3",
   "version": "3.12.4"
  }
 },
 "nbformat": 4,
 "nbformat_minor": 2
}
