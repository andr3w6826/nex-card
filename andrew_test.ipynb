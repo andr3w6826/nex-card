{
 "cells": [
  {
   "cell_type": "code",
   "execution_count": 2,
   "metadata": {},
   "outputs": [],
   "source": [
    "import numpy as np\n",
    "import json"
   ]
  },
  {
   "cell_type": "code",
   "execution_count": 34,
   "metadata": {},
   "outputs": [
    {
     "data": {
      "text/plain": [
       "{'credit_score': '740',\n",
       " 'credit_age': '2',\n",
       " 'spending_categories': {'monthly_dining': 600,\n",
       "  'monthly_groceries': 100,\n",
       "  'monthly_gas': 0,\n",
       "  'monthly_streaming': 7,\n",
       "  'monthly_online_shopping': 12,\n",
       "  'monthly_other': 200,\n",
       "  'monthly_travel': 10,\n",
       "  'monthly_hotel': 5,\n",
       "  'monthly_hotel_portal': 6,\n",
       "  'monthly_flights': 7,\n",
       "  'monthly_flights_portal': 8,\n",
       "  'monthly_car_rental': 9,\n",
       "  'monthly_car_rental_portal': 10}}"
      ]
     },
     "execution_count": 34,
     "metadata": {},
     "output_type": "execute_result"
    }
   ],
   "source": [
    "filepath = 'users.json'\n",
    "username = 'Andrew'\n",
    "\n",
    "cards_filepath = 'data/card_data.json'\n",
    "card = 'Chase Sapphire Preferred'\n",
    "\n",
    "with open(filepath, 'r') as f:\n",
    "    users = json.load(f)\n",
    "\n",
    "with open(cards_filepath, 'r') as f:\n",
    "    cards = json.load(f)\n",
    "\n",
    "andrew = users[username]\n",
    "andrew_spend = andrew['spending_categories']\n",
    "andrew\n"
   ]
  },
  {
   "cell_type": "code",
   "execution_count": 35,
   "metadata": {},
   "outputs": [
    {
     "data": {
      "text/plain": [
       "{'issuer': 'Chase',\n",
       " 'annual_fee': 95,\n",
       " 'purpose': 'Travel',\n",
       " 'good_airlines': ['Southwest', 'United'],\n",
       " 'spending_categories': {'Chase Travel': 5,\n",
       "  'Dining': 3,\n",
       "  'Online_Grocery': 3,\n",
       "  'Streaming': 3,\n",
       "  'Travel': 2,\n",
       "  'Other': 1}}"
      ]
     },
     "execution_count": 35,
     "metadata": {},
     "output_type": "execute_result"
    }
   ],
   "source": [
    "csp = cards[card]\n",
    "csp"
   ]
  },
  {
   "cell_type": "code",
   "execution_count": 36,
   "metadata": {},
   "outputs": [],
   "source": [
    "MASTER = {\n",
    "    'monthly_dining': 'Dining',\n",
    "    'monthly_groceries': 'Grocery',\n",
    "    'monthly_gas': 'Gas',\n",
    "    'monthly_streaming': 'Streaming',\n",
    "    'monthly_online_shopping': 'Online_Shopping',\n",
    "    'monthly_other': 'Other',\n",
    "\n",
    "    # travel (non-portal)\n",
    "    'monthly_travel': 'Travel',\n",
    "    'monthly_hotel': 'Hotel',\n",
    "    'monthly_flights': 'Flights',\n",
    "\n",
    "    # travel (portal)\n",
    "    'monthly_hotel_portal': 'PORTAL_HOTEL',\n",
    "    'monthly_flights_portal': 'PORTAL_FLIGHT',\n",
    "}\n",
    "\n",
    "PORTAL_BY_ISSUER = {\n",
    "    'American Express': {\n",
    "        'unified': 'AmexTravel',\n",
    "        'hotel':  'AmexTravel Hotels (Prepaid)',\n",
    "        'flight': 'AmexTravel Flights',\n",
    "    },\n",
    "    'Chase': {\n",
    "        'unified': 'Chase Travel',\n",
    "        'hotel':  'Chase Travel - Hotels',\n",
    "        'flight': 'Chase Travel - Flights',\n",
    "    },\n",
    "    'Capital One': {\n",
    "        'unified': 'Capital One Travel',\n",
    "        'hotel':  'Capital One Travel - Hotels',\n",
    "        'flight': 'Capital One Travel - Flights',\n",
    "    },\n",
    "}\n",
    "\n",
    "\n",
    "def resolve_formal(formal_cat: str, card: dict) -> str:\n",
    "    \n",
    "    # If the category is not related to a portal category, return the category (e.g. Dining, Grocery, etc.)\n",
    "    if formal_cat not in ('PORTAL_HOTEL', 'PORTAL_FLIGHT'):\n",
    "        return formal_cat\n",
    "\n",
    "    issuer = card.get('issuer')\n",
    "\n",
    "    # Single out the travel portal for the issuer\n",
    "    portal = PORTAL_BY_ISSUER.get(issuer, {})\n",
    "    card_cats = card.get('spending_categories', {})\n",
    "\n",
    "    # If the card has a specific label (e.g. Chase Travel - Hotel) use that \n",
    "    if formal_cat == 'PORTAL_HOTEL':\n",
    "        specific = portal.get('hotel')\n",
    "        unified  = portal.get('unified')\n",
    "        # If the card has a specific label (e.g. Chase Travel - Hotel) use that \n",
    "        if specific and specific in card_cats:\n",
    "            return specific\n",
    "        # Not the card doesn't have portal cateogry for it, fallback to general travel portal\n",
    "        if unified and unified in card_cats:\n",
    "            return unified\n",
    "        return 'Other'  # last-resort fallback\n",
    "\n",
    "    if formal_cat == 'PORTAL_FLIGHT':\n",
    "        specific = portal.get('flight')\n",
    "        unified  = portal.get('unified')\n",
    "        if specific and specific in card_cats:\n",
    "            return specific\n",
    "        if unified and unified in card_cats:\n",
    "            return unified\n",
    "        return 'Other'\n",
    "\n",
    "\n",
    "def calc_point_return(user, card):\n",
    "    user_spend = user['spending_categories']\n",
    "    card_cats  = card['spending_categories']\n",
    "\n",
    "    total_points = 0\n",
    "    breakdown = {}\n",
    "\n",
    "    for user_cat, amt in user_spend.items():\n",
    "        # 1) default unknown user categories -> 'Other'\n",
    "        formal = resolve_formal(MASTER.get(user_cat, 'Other'), card)\n",
    "        # 2) if the card lacks that formal category, fall back to card's 'Other' (or 1x)\n",
    "        if formal in card_cats:\n",
    "            earn_rate = card_cats[formal]\n",
    "        elif 'Other' in card_cats:\n",
    "            earn_rate = card_cats['Other']\n",
    "        else:\n",
    "            earn_rate = 1\n",
    "\n",
    "        pts = amt * earn_rate\n",
    "\n",
    "        total_points += pts\n",
    "        breakdown[user_cat] = dict(amount=amt, formal=formal,\n",
    "                                   earn_rate=earn_rate, points=pts)\n",
    "\n",
    "    return total_points, breakdown\n"
   ]
  },
  {
   "cell_type": "code",
   "execution_count": 44,
   "metadata": {},
   "outputs": [
    {
     "data": {
      "text/plain": [
       "{'amount': 5, 'formal': 'Hotel', 'earn_rate': 1, 'points': 5}"
      ]
     },
     "execution_count": 44,
     "metadata": {},
     "output_type": "execute_result"
    }
   ],
   "source": [
    "calc_point_return(andrew, csp)[1]['monthly_hotel']"
   ]
  },
  {
   "cell_type": "markdown",
   "metadata": {},
   "source": []
  },
  {
   "cell_type": "code",
   "execution_count": 38,
   "metadata": {},
   "outputs": [],
   "source": [
    "# calculate "
   ]
  },
  {
   "cell_type": "code",
   "execution_count": 9,
   "metadata": {},
   "outputs": [],
   "source": [
    "# benefit_utilization_rate\n",
    "\n",
    "# approval odds metric"
   ]
  },
  {
   "cell_type": "code",
   "execution_count": null,
   "metadata": {},
   "outputs": [],
   "source": []
  }
 ],
 "metadata": {
  "kernelspec": {
   "display_name": "Python 3",
   "language": "python",
   "name": "python3"
  },
  "language_info": {
   "codemirror_mode": {
    "name": "ipython",
    "version": 3
   },
   "file_extension": ".py",
   "mimetype": "text/x-python",
   "name": "python",
   "nbconvert_exporter": "python",
   "pygments_lexer": "ipython3",
   "version": "3.12.4"
  }
 },
 "nbformat": 4,
 "nbformat_minor": 2
}
