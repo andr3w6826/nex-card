{
 "cells": [
  {
   "cell_type": "code",
   "execution_count": 57,
   "metadata": {},
   "outputs": [],
   "source": [
    "import numpy as np\n",
    "import functions\n",
    "import json"
   ]
  },
  {
   "cell_type": "code",
   "execution_count": 70,
   "metadata": {},
   "outputs": [
    {
     "data": {
      "text/plain": [
       "{'credit_score': '740',\n",
       " 'credit_age': '2',\n",
       " 'spending_categories': {'monthly_dining': 600,\n",
       "  'monthly_groceries': 100,\n",
       "  'monthly_gas': 0,\n",
       "  'monthly_streaming': 7,\n",
       "  'monthly_online_shopping': 12,\n",
       "  'monthly_drugstore/pharmacy': 5,\n",
       "  'monthly_other': 200,\n",
       "  'monthly_travel': 10,\n",
       "  'monthly_hotel': 5,\n",
       "  'monthly_hotel_portal': 6,\n",
       "  'monthly_flights': 7,\n",
       "  'monthly_flights_portal': 8,\n",
       "  'monthly_car_rental': 9,\n",
       "  'monthly_car_rental_portal': 10}}"
      ]
     },
     "execution_count": 70,
     "metadata": {},
     "output_type": "execute_result"
    }
   ],
   "source": [
    "filepath = 'users.json'\n",
    "username = 'Andrew'\n",
    "\n",
    "cards_filepath = 'data/card_data.json'\n",
    "card = 'Capital One Savor'\n",
    "\n",
    "with open(filepath, 'r') as f:\n",
    "    users = json.load(f)\n",
    "\n",
    "with open(cards_filepath, 'r') as f:\n",
    "    cards = json.load(f)\n",
    "\n",
    "andrew = users[username]\n",
    "andrew_spend = andrew['spending_categories']\n",
    "andrew\n"
   ]
  },
  {
   "cell_type": "code",
   "execution_count": 67,
   "metadata": {},
   "outputs": [
    {
     "data": {
      "text/plain": [
       "{'issuer': 'Capital One',\n",
       " 'annual_fee': 0,\n",
       " 'earning_style': 'percent',\n",
       " 'purpose': 'Cashback',\n",
       " 'good_airlines': [],\n",
       " 'spending_categories': {'Capital One Travel - Hotels': 5,\n",
       "  'Capital One Travel - Car Rentals': 5,\n",
       "  'Dining': 3,\n",
       "  'Grocery': 3,\n",
       "  'Other': 1}}"
      ]
     },
     "execution_count": 67,
     "metadata": {},
     "output_type": "execute_result"
    }
   ],
   "source": [
    "savor= cards[card]\n",
    "savor"
   ]
  },
  {
   "cell_type": "code",
   "execution_count": 65,
   "metadata": {},
   "outputs": [
    {
     "data": {
      "text/plain": [
       "(2443,\n",
       " {'monthly_dining': {'amount': 600,\n",
       "   'formal': 'Dining',\n",
       "   'earn_rate': 3,\n",
       "   'points': 1800},\n",
       "  'monthly_groceries': {'amount': 100,\n",
       "   'formal': 'Grocery',\n",
       "   'earn_rate': 3,\n",
       "   'points': 300},\n",
       "  'monthly_gas': {'amount': 0, 'formal': 'Gas', 'earn_rate': 1, 'points': 0},\n",
       "  'monthly_streaming': {'amount': 7,\n",
       "   'formal': 'Streaming',\n",
       "   'earn_rate': 1,\n",
       "   'points': 7},\n",
       "  'monthly_online_shopping': {'amount': 12,\n",
       "   'formal': 'Online_Shopping',\n",
       "   'earn_rate': 1,\n",
       "   'points': 12},\n",
       "  'monthly_drugstore/pharmacy': {'amount': 5,\n",
       "   'formal': 'Drugstore',\n",
       "   'earn_rate': 1,\n",
       "   'points': 5},\n",
       "  'monthly_other': {'amount': 200,\n",
       "   'formal': 'Other',\n",
       "   'earn_rate': 1,\n",
       "   'points': 200},\n",
       "  'monthly_travel': {'amount': 10,\n",
       "   'formal': 'Travel',\n",
       "   'earn_rate': 1,\n",
       "   'points': 10},\n",
       "  'monthly_hotel': {'amount': 5,\n",
       "   'formal': 'Hotel',\n",
       "   'earn_rate': 1,\n",
       "   'points': 5},\n",
       "  'monthly_hotel_portal': {'amount': 6,\n",
       "   'formal': 'Capital One Travel - Hotels',\n",
       "   'earn_rate': 5,\n",
       "   'points': 30},\n",
       "  'monthly_flights': {'amount': 7,\n",
       "   'formal': 'Flights',\n",
       "   'earn_rate': 1,\n",
       "   'points': 7},\n",
       "  'monthly_flights_portal': {'amount': 8,\n",
       "   'formal': 'Other',\n",
       "   'earn_rate': 1,\n",
       "   'points': 8},\n",
       "  'monthly_car_rental': {'amount': 9,\n",
       "   'formal': 'Other',\n",
       "   'earn_rate': 1,\n",
       "   'points': 9},\n",
       "  'monthly_car_rental_portal': {'amount': 10,\n",
       "   'formal': 'Capital One Travel - Car Rentals',\n",
       "   'earn_rate': 5,\n",
       "   'points': 50}})"
      ]
     },
     "execution_count": 65,
     "metadata": {},
     "output_type": "execute_result"
    }
   ],
   "source": [
    "functions.calc_point_return(andrew, savor)"
   ]
  },
  {
   "cell_type": "code",
   "execution_count": 9,
   "metadata": {},
   "outputs": [],
   "source": [
    "# benefit_utilization_rate\n",
    "\n",
    "# approval odds metric"
   ]
  },
  {
   "cell_type": "code",
   "execution_count": 77,
   "metadata": {},
   "outputs": [
    {
     "data": {
      "text/plain": [
       "{'American Express Gold Card': 3125,\n",
       " 'Chase Freedom Unlimited': 2460.0,\n",
       " 'Capital One Savor': 2443,\n",
       " 'Chase Sapphire Preferred': 2299}"
      ]
     },
     "execution_count": 77,
     "metadata": {},
     "output_type": "execute_result"
    }
   ],
   "source": [
    "functions.best_points_card(andrew, cards)"
   ]
  },
  {
   "cell_type": "code",
   "execution_count": null,
   "metadata": {},
   "outputs": [],
   "source": []
  }
 ],
 "metadata": {
  "kernelspec": {
   "display_name": "Python 3",
   "language": "python",
   "name": "python3"
  },
  "language_info": {
   "codemirror_mode": {
    "name": "ipython",
    "version": 3
   },
   "file_extension": ".py",
   "mimetype": "text/x-python",
   "name": "python",
   "nbconvert_exporter": "python",
   "pygments_lexer": "ipython3",
   "version": "3.12.4"
  }
 },
 "nbformat": 4,
 "nbformat_minor": 2
}
