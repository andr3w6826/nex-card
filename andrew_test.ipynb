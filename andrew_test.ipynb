{
 "cells": [
  {
   "cell_type": "code",
   "execution_count": 78,
   "metadata": {},
   "outputs": [],
   "source": [
    "import numpy as np\n",
    "import functions\n",
    "import json"
   ]
  },
  {
   "cell_type": "code",
   "execution_count": 79,
   "metadata": {},
   "outputs": [
    {
     "data": {
      "text/plain": [
       "{'credit_score': '740',\n",
       " 'credit_age': '2',\n",
       " 'spending_categories': {'monthly_dining': 600,\n",
       "  'monthly_groceries': 100,\n",
       "  'monthly_gas': 0,\n",
       "  'monthly_streaming': 7,\n",
       "  'monthly_online_shopping': 12,\n",
       "  'monthly_drugstore/pharmacy': 5,\n",
       "  'monthly_other': 200,\n",
       "  'monthly_travel': 10,\n",
       "  'monthly_hotel': 5,\n",
       "  'monthly_hotel_portal': 6,\n",
       "  'monthly_flights': 7,\n",
       "  'monthly_flights_portal': 8,\n",
       "  'monthly_car_rental': 9,\n",
       "  'monthly_car_rental_portal': 10},\n",
       " 'credits': ['Doordash', 'Resy', 'Travel', 'TSA_Precheck_Global_Entry']}"
      ]
     },
     "execution_count": 79,
     "metadata": {},
     "output_type": "execute_result"
    }
   ],
   "source": [
    "filepath = 'users.json'\n",
    "username = 'Andrew'\n",
    "\n",
    "cards_filepath = 'data/card_data.json'\n",
    "card = 'Capital One Savor'\n",
    "\n",
    "with open(filepath, 'r') as f:\n",
    "    users = json.load(f)\n",
    "\n",
    "with open(cards_filepath, 'r') as f:\n",
    "    cards = json.load(f)\n",
    "\n",
    "andrew = users[username]\n",
    "andrew_spend = andrew['spending_categories']\n",
    "andrew\n"
   ]
  },
  {
   "cell_type": "code",
   "execution_count": 80,
   "metadata": {},
   "outputs": [
    {
     "data": {
      "text/plain": [
       "{'issuer': 'Capital One',\n",
       " 'annual_fee': 0,\n",
       " 'earning_style': 'percent',\n",
       " 'purpose': 'Cashback',\n",
       " 'good_airlines': [],\n",
       " 'spending_categories': {'Capital One Travel - Hotels': 5,\n",
       "  'Capital One Travel - Car Rentals': 5,\n",
       "  'Dining': 3,\n",
       "  'Grocery': 3,\n",
       "  'Other': 1},\n",
       " 'credits': []}"
      ]
     },
     "execution_count": 80,
     "metadata": {},
     "output_type": "execute_result"
    }
   ],
   "source": [
    "savor= cards[card]\n",
    "savor"
   ]
  },
  {
   "cell_type": "code",
   "execution_count": 81,
   "metadata": {},
   "outputs": [
    {
     "data": {
      "text/plain": [
       "(2443,\n",
       " {'monthly_dining': {'amount': 600,\n",
       "   'formal': 'Dining',\n",
       "   'earn_rate': 3,\n",
       "   'points': 1800},\n",
       "  'monthly_groceries': {'amount': 100,\n",
       "   'formal': 'Grocery',\n",
       "   'earn_rate': 3,\n",
       "   'points': 300},\n",
       "  'monthly_gas': {'amount': 0, 'formal': 'Gas', 'earn_rate': 1, 'points': 0},\n",
       "  'monthly_streaming': {'amount': 7,\n",
       "   'formal': 'Streaming',\n",
       "   'earn_rate': 1,\n",
       "   'points': 7},\n",
       "  'monthly_online_shopping': {'amount': 12,\n",
       "   'formal': 'Online_Shopping',\n",
       "   'earn_rate': 1,\n",
       "   'points': 12},\n",
       "  'monthly_drugstore/pharmacy': {'amount': 5,\n",
       "   'formal': 'Drugstore',\n",
       "   'earn_rate': 1,\n",
       "   'points': 5},\n",
       "  'monthly_other': {'amount': 200,\n",
       "   'formal': 'Other',\n",
       "   'earn_rate': 1,\n",
       "   'points': 200},\n",
       "  'monthly_travel': {'amount': 10,\n",
       "   'formal': 'Travel',\n",
       "   'earn_rate': 1,\n",
       "   'points': 10},\n",
       "  'monthly_hotel': {'amount': 5,\n",
       "   'formal': 'Hotel',\n",
       "   'earn_rate': 1,\n",
       "   'points': 5},\n",
       "  'monthly_hotel_portal': {'amount': 6,\n",
       "   'formal': 'Capital One Travel - Hotels',\n",
       "   'earn_rate': 5,\n",
       "   'points': 30},\n",
       "  'monthly_flights': {'amount': 7,\n",
       "   'formal': 'Flights',\n",
       "   'earn_rate': 1,\n",
       "   'points': 7},\n",
       "  'monthly_flights_portal': {'amount': 8,\n",
       "   'formal': 'Other',\n",
       "   'earn_rate': 1,\n",
       "   'points': 8},\n",
       "  'monthly_car_rental': {'amount': 9,\n",
       "   'formal': 'Other',\n",
       "   'earn_rate': 1,\n",
       "   'points': 9},\n",
       "  'monthly_car_rental_portal': {'amount': 10,\n",
       "   'formal': 'Capital One Travel - Car Rentals',\n",
       "   'earn_rate': 5,\n",
       "   'points': 50}})"
      ]
     },
     "execution_count": 81,
     "metadata": {},
     "output_type": "execute_result"
    }
   ],
   "source": [
    "functions.calc_point_return(andrew, savor)"
   ]
  },
  {
   "cell_type": "code",
   "execution_count": 82,
   "metadata": {},
   "outputs": [],
   "source": [
    "# benefit_utilization_rate\n",
    "# some way to collect all the cards\n",
    "\n",
    "\n",
    "# approval odds metric"
   ]
  },
  {
   "cell_type": "code",
   "execution_count": 83,
   "metadata": {},
   "outputs": [
    {
     "data": {
      "text/plain": [
       "{'American Express Gold Card': 3125,\n",
       " 'Chase Freedom Unlimited': 2460.0,\n",
       " 'Capital One Savor': 2443,\n",
       " 'Chase Sapphire Preferred': 2311}"
      ]
     },
     "execution_count": 83,
     "metadata": {},
     "output_type": "execute_result"
    }
   ],
   "source": [
    "functions.best_points_card(andrew, cards)"
   ]
  },
  {
   "cell_type": "code",
   "execution_count": 84,
   "metadata": {},
   "outputs": [],
   "source": [
    "MASTER_CREDITS = ['Doordash', 'Uber', 'Resy', \n",
    "                  'Lyft', 'Travel', 'Stubhub', \n",
    "                  'TSA_Precheck_Global_Entry', 'Clear', 'Lounge_Access', \n",
    "                  'checked_bag', 'Disney_Hulu_Espn']"
   ]
  },
  {
   "cell_type": "code",
   "execution_count": 86,
   "metadata": {},
   "outputs": [
    {
     "name": "stdout",
     "output_type": "stream",
     "text": [
      "[{'credit_age': 2.0, 'credit_score': 700.0, 'id': 1, 'monthly_car_rental': 100.0, 'monthly_car_rental_portal': 100.0, 'monthly_dining': 1000.0, 'monthly_drugstore_pharmacy': 100.0, 'monthly_flights': 100.0, 'monthly_flights_portal': 100.0, 'monthly_gas': 100.0, 'monthly_groceries': 100.0, 'monthly_hotel': 100.0, 'monthly_hotel_portal': 100.0, 'monthly_online_shopping': 100.0, 'monthly_other': 100.0, 'monthly_streaming': 100.0, 'monthly_travel': 100.0, 'name': 'JJ'}, {'credit_age': 1.0, 'credit_score': 760.0, 'id': 2, 'monthly_car_rental': 0.0, 'monthly_car_rental_portal': 0.0, 'monthly_dining': 400.0, 'monthly_drugstore_pharmacy': 2.0, 'monthly_flights': 20.0, 'monthly_flights_portal': 20.0, 'monthly_gas': 0.0, 'monthly_groceries': 100.0, 'monthly_hotel': 0.0, 'monthly_hotel_portal': 20.0, 'monthly_online_shopping': 20.0, 'monthly_other': 100.0, 'monthly_streaming': 7.0, 'monthly_travel': 0.0, 'name': 'Andrew'}]\n"
     ]
    }
   ],
   "source": [
    "import requests\n",
    "\n",
    "url = \"https://nex-card.onrender.com/users\"   # <-- replace with your real API endpoint\n",
    "\n",
    "# send GET request\n",
    "response = requests.get(url)\n",
    "\n",
    "# check status\n",
    "if response.status_code == 200:\n",
    "    data = response.json()   # parse JSON response into a Python dict/list\n",
    "    print(data)\n",
    "else:\n",
    "    print(f\"Error {response.status_code}: {response.text}\")"
   ]
  },
  {
   "cell_type": "code",
   "execution_count": 89,
   "metadata": {},
   "outputs": [
    {
     "name": "stdout",
     "output_type": "stream",
     "text": [
      "Found: {'credit_age': 1.0, 'credit_score': 760.0, 'id': 2, 'monthly_car_rental': 0.0, 'monthly_car_rental_portal': 0.0, 'monthly_dining': 400.0, 'monthly_drugstore_pharmacy': 2.0, 'monthly_flights': 20.0, 'monthly_flights_portal': 20.0, 'monthly_gas': 0.0, 'monthly_groceries': 100.0, 'monthly_hotel': 0.0, 'monthly_hotel_portal': 20.0, 'monthly_online_shopping': 20.0, 'monthly_other': 100.0, 'monthly_streaming': 7.0, 'monthly_travel': 0.0, 'name': 'Andrew'}\n"
     ]
    }
   ],
   "source": [
    "andrew_entry = next((item for item in data if item[\"name\"].lower() == \"andrew\"), None)\n",
    "\n",
    "if andrew_entry:\n",
    "    print(\"Found:\", andrew_entry)\n",
    "else:\n",
    "    print(\"No entry named 'andrew' found.\")"
   ]
  },
  {
   "cell_type": "code",
   "execution_count": null,
   "metadata": {},
   "outputs": [],
   "source": []
  }
 ],
 "metadata": {
  "kernelspec": {
   "display_name": "Python 3",
   "language": "python",
   "name": "python3"
  },
  "language_info": {
   "codemirror_mode": {
    "name": "ipython",
    "version": 3
   },
   "file_extension": ".py",
   "mimetype": "text/x-python",
   "name": "python",
   "nbconvert_exporter": "python",
   "pygments_lexer": "ipython3",
   "version": "3.12.4"
  }
 },
 "nbformat": 4,
 "nbformat_minor": 2
}
